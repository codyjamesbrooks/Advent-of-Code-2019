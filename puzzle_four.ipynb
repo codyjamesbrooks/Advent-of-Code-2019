{
 "cells": [
  {
   "cell_type": "code",
   "execution_count": 39,
   "metadata": {},
   "outputs": [],
   "source": [
    "data = '156218-652527'\n",
    "low = 156218\n",
    "up = 652527"
   ]
  },
  {
   "cell_type": "markdown",
   "metadata": {},
   "source": [
    "# Part One Solution"
   ]
  },
  {
   "cell_type": "code",
   "execution_count": 40,
   "metadata": {},
   "outputs": [
    {
     "name": "stdout",
     "output_type": "stream",
     "text": [
      "The solution to part one 1694.\n"
     ]
    }
   ],
   "source": [
    "def puzzle_four_part_one(lower_range: int, upper_range: int) -> int:\n",
    "    possible_pass = 0\n",
    "    for x in range(lower_range, upper_range +1):\n",
    "        flag = False\n",
    "        for i in range(5):\n",
    "            if str(x)[i] == str(x)[i+1]:\n",
    "                flag = True\n",
    "                break\n",
    "        if flag:\n",
    "            for i in range(5):\n",
    "                if int(str(x)[i]) > int(str(x)[i+1]):\n",
    "                    flag = False\n",
    "                    break\n",
    "        if flag:\n",
    "            possible_pass += 1\n",
    "    return possible_pass\n",
    "print(f'The solution to part one {puzzle_four_part_one(low, up)}.')"
   ]
  },
  {
   "cell_type": "markdown",
   "metadata": {},
   "source": [
    "# Function Def and Part Two"
   ]
  },
  {
   "cell_type": "code",
   "execution_count": 43,
   "metadata": {
    "scrolled": false
   },
   "outputs": [],
   "source": [
    "def num_in_row(num: int) -> list:\n",
    "    \"\"\" Function takes a number and returns a list of how many adjecent digits are the same digit\"\"\"\n",
    "    \"\"\" Examples: num_in_row(11122333) -> [3, 2 , 3], num_in_row(100) -> [1, 2]\"\"\"\n",
    "    num_in_row = []\n",
    "    counter = 1\n",
    "    for i in range(len(str(num)) - 1):\n",
    "        if int(str(num)[i]) == int(str(num)[i+1]):\n",
    "            counter += 1\n",
    "        else: \n",
    "            num_in_row.append(counter)\n",
    "            counter = 1\n",
    "    num_in_row.append(counter)\n",
    "    return num_in_row"
   ]
  },
  {
   "cell_type": "code",
   "execution_count": 44,
   "metadata": {},
   "outputs": [
    {
     "name": "stdout",
     "output_type": "stream",
     "text": [
      "The solution to part two is 1148.\n"
     ]
    }
   ],
   "source": [
    "def puzzle_four_part_two(lower_range: int, upper_range: int) -> int:\n",
    "    possible_pass = 0\n",
    "    for x in range (lower_range, upper_range + 1):\n",
    "        flag = True\n",
    "        for i in range(5):\n",
    "            if int(str(x)[i]) > int(str(x)[i+1]):\n",
    "                flag = False\n",
    "        if flag:\n",
    "            consec = num_in_row(x)\n",
    "            if 2 not in consec:\n",
    "                flag = False\n",
    "        if flag: \n",
    "            possible_pass += 1        \n",
    "    return possible_pass\n",
    "print(f'The solution to part two is {puzzle_four_part_two(lower_range, upper_range)}.')"
   ]
  },
  {
   "cell_type": "code",
   "execution_count": 58,
   "metadata": {},
   "outputs": [
    {
     "name": "stdout",
     "output_type": "stream",
     "text": [
      "(1, 3) (1, 4) (2, 3) (2, 4)\n"
     ]
    }
   ],
   "source": [
    "a = [1, 2]\n",
    "b = [3, 4]\n",
    "from itertools import product\n",
    "\n",
    "# a = raw_input().split(' ')\n",
    "# b = raw_input().split(' ')\n",
    "\n",
    "a = [int(x) for x in a]\n",
    "b = [int(x) for x in b]\n",
    "answer = []\n",
    "for x in product(a, b):\n",
    "    answer.append(str(x))\n",
    "print(\" \".join(answer))"
   ]
  },
  {
   "cell_type": "code",
   "execution_count": 59,
   "metadata": {},
   "outputs": [
    {
     "name": "stdout",
     "output_type": "stream",
     "text": [
      "(1, 3) (1, 4) (2, 3) (2, 4)\n"
     ]
    }
   ],
   "source": [
    "print(*product(a, b))"
   ]
  },
  {
   "cell_type": "code",
   "execution_count": null,
   "metadata": {},
   "outputs": [],
   "source": []
  }
 ],
 "metadata": {
  "kernelspec": {
   "display_name": "Python 3",
   "language": "python",
   "name": "python3"
  },
  "language_info": {
   "codemirror_mode": {
    "name": "ipython",
    "version": 3
   },
   "file_extension": ".py",
   "mimetype": "text/x-python",
   "name": "python",
   "nbconvert_exporter": "python",
   "pygments_lexer": "ipython3",
   "version": "3.8.3"
  }
 },
 "nbformat": 4,
 "nbformat_minor": 4
}
