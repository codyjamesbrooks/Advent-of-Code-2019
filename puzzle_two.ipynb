{
 "cells": [
  {
   "cell_type": "code",
   "execution_count": 45,
   "metadata": {},
   "outputs": [],
   "source": [
    "filename = 'puzzle_two.txt'\n",
    "with open(filename) as f:\n",
    "    data = f.readlines()\n",
    "data = data[0].split(',')\n",
    "for counter in range(len(data)):\n",
    "    data[counter] = int(data[counter])"
   ]
  },
  {
   "cell_type": "markdown",
   "metadata": {},
   "source": [
    "# Part One Solution"
   ]
  },
  {
   "cell_type": "code",
   "execution_count": 19,
   "metadata": {},
   "outputs": [
    {
     "name": "stdout",
     "output_type": "stream",
     "text": [
      "The solution to part one is 5482655.\n"
     ]
    }
   ],
   "source": [
    "def puzzle_two_part_one(data: list) -> int:\n",
    "    counter = 0\n",
    "    while data[counter] != 99:\n",
    "        action = data[counter]\n",
    "        x = data[data[counter + 1]]\n",
    "        y = data[data[counter + 2]]\n",
    "        output_pos = data[counter + 3]\n",
    "        \n",
    "        if action == 1:\n",
    "            data[output_pos] = x + y\n",
    "        if action == 2:\n",
    "            data[output_pos] = x * y\n",
    "\n",
    "        counter += 4\n",
    "    return data[0]\n",
    "print(f'The solution to part one is {puzzle_two_part_one(data)}.')\n"
   ]
  },
  {
   "cell_type": "markdown",
   "metadata": {},
   "source": [
    "# Part Two Solution"
   ]
  },
  {
   "cell_type": "code",
   "execution_count": 50,
   "metadata": {},
   "outputs": [
    {
     "name": "stdout",
     "output_type": "stream",
     "text": [
      "We got a winnner\n",
      "Noun: 49, Verb: 67, Output: 19690720, Sucess\n",
      "The solution to part two 4967.\n"
     ]
    }
   ],
   "source": [
    "def puzzle_two_part_two() -> int:\n",
    "    for i in range(100):\n",
    "        for j in range(100):\n",
    "            with open(filename) as f:\n",
    "                data = f.readlines()\n",
    "            data = data[0].split(',')\n",
    "            for counter in range(len(data)):\n",
    "                data[counter] = int(data[counter])\n",
    "            data[1] = i\n",
    "            data[2] = j\n",
    "            counter = 0\n",
    "            while data[counter] != 99:\n",
    "                action = data[counter]\n",
    "                x = data[data[counter + 1]]\n",
    "                y = data[data[counter + 2]]\n",
    "                output_pos = data[counter + 3]\n",
    "                \n",
    "                if action == 1:\n",
    "                    data[output_pos] = x + y\n",
    "                if action == 2:\n",
    "                    data[output_pos] = x * y\n",
    "                counter += 4\n",
    "            if data[0] == 19690720:\n",
    "                print('We got a winnner')\n",
    "                print(f'Noun: {i}, Verb: {j}, Output: {data[0]}, Sucess')\n",
    "                return 100 * i + j\n",
    "        \n",
    "print(f'The solution to part two {puzzle_two_part_two()}.')"
   ]
  },
  {
   "cell_type": "code",
   "execution_count": null,
   "metadata": {},
   "outputs": [],
   "source": []
  },
  {
   "cell_type": "code",
   "execution_count": null,
   "metadata": {},
   "outputs": [],
   "source": []
  }
 ],
 "metadata": {
  "kernelspec": {
   "display_name": "Python 3",
   "language": "python",
   "name": "python3"
  },
  "language_info": {
   "codemirror_mode": {
    "name": "ipython",
    "version": 3
   },
   "file_extension": ".py",
   "mimetype": "text/x-python",
   "name": "python",
   "nbconvert_exporter": "python",
   "pygments_lexer": "ipython3",
   "version": "3.8.3"
  }
 },
 "nbformat": 4,
 "nbformat_minor": 4
}
