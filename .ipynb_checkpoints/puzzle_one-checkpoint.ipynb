{
 "cells": [
  {
   "cell_type": "code",
   "execution_count": 5,
   "metadata": {},
   "outputs": [],
   "source": [
    "import math\n",
    "\n",
    "filename = 'puzzle_one.txt'\n",
    "with open(filename) as f:\n",
    "    data = f.readlines()\n",
    "for counter in range(len(data)):\n",
    "    data[counter] = int(data[counter].rstrip('\\n'))"
   ]
  },
  {
   "cell_type": "markdown",
   "metadata": {},
   "source": [
    "# Part One Solution"
   ]
  },
  {
   "cell_type": "code",
   "execution_count": 6,
   "metadata": {},
   "outputs": [
    {
     "name": "stdout",
     "output_type": "stream",
     "text": [
      "The solution to part one is 3402634.\n"
     ]
    }
   ],
   "source": [
    "def puzzle_one_part_one(data: list) -> int:\n",
    "    answer = 0\n",
    "    for mass in data:\n",
    "        answer += math.floor(mass/3) - 2\n",
    "    return answer\n",
    "print(f'The solution to part one is {puzzle_one_part_one(data)}.')"
   ]
  },
  {
   "cell_type": "markdown",
   "metadata": {},
   "source": [
    "# Part Two Solution"
   ]
  },
  {
   "cell_type": "code",
   "execution_count": 8,
   "metadata": {},
   "outputs": [
    {
     "name": "stdout",
     "output_type": "stream",
     "text": [
      "The solution to part two is 5101069.\n"
     ]
    }
   ],
   "source": [
    "def puzzle_one_part_two(data: list) -> int:\n",
    "    answer = 0\n",
    "    for mass in data: \n",
    "        while True:\n",
    "            fuel_needed = math.floor(mass/3) - 2\n",
    "            if fuel_needed > 0:\n",
    "                answer += fuel_needed\n",
    "                mass = fuel_needed\n",
    "            else:\n",
    "                break\n",
    "    return answer\n",
    "print(f'The solution to part two is {puzzle_one_part_two(data)}.')"
   ]
  }
 ],
 "metadata": {
  "kernelspec": {
   "display_name": "Python 3",
   "language": "python",
   "name": "python3"
  },
  "language_info": {
   "codemirror_mode": {
    "name": "ipython",
    "version": 3
   },
   "file_extension": ".py",
   "mimetype": "text/x-python",
   "name": "python",
   "nbconvert_exporter": "python",
   "pygments_lexer": "ipython3",
   "version": "3.8.3"
  }
 },
 "nbformat": 4,
 "nbformat_minor": 4
}
